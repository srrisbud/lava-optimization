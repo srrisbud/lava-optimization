{
 "cells": [
  {
   "cell_type": "code",
   "execution_count": 1,
   "id": "2a262260",
   "metadata": {},
   "outputs": [],
   "source": [
    "# Import the QP solver and Problem classes\n",
    "import numpy as np\n",
    "from lava.lib.optimization.problems.problems import QP\n",
    "from lava.lib.optimization.solvers.qp.solver import QPSolver\n",
    "from lava.magma.core.run_conditions import RunSteps\n",
    "from lava.magma.core.run_configs import Loihi1SimCfg\n",
    "from lava.lib.optimization.solvers.qp.models import (\n",
    "    ConstraintCheck,\n",
    "    GradientDynamics,\n",
    ")"
   ]
  },
  {
   "cell_type": "markdown",
   "id": "1acf5ca8",
   "metadata": {},
   "source": [
    "### Small Problem Floating point w/o sigma delta\n"
   ]
  },
  {
   "cell_type": "code",
   "execution_count": 2,
   "id": "ca25eb5f",
   "metadata": {},
   "outputs": [],
   "source": [
    "P = np.array([[30, 10, 2], [10, 3, 2], [10, 20, 5]])\n",
    "q = np.array([[1, 2, 1]]).T\n",
    "tau = 10\n",
    "\n",
    "## setting up the LASSO problem\n",
    "Q = P.T@P\n",
    "p = -P.T@q\n",
    "A = np.array([[-1, -1,  1], \n",
    "              [-1,  1, -1],\n",
    "              [-1,  1,  1],\n",
    "              [ 1, -1, -1],\n",
    "              [ 1, -1,  1],\n",
    "              [ 1,  1, -1],\n",
    "              [ 1,  1,  1],\n",
    "              [-1, -1, -1],\n",
    "             ])\n",
    "k = tau*np.ones((1,8)).T\n",
    "\n",
    "## Learning constants for the solver\n",
    "alpha_d, beta_g = 10000, 10000\n",
    "\n",
    "pre_mat_Q = np.diag(1/np.linalg.norm(Q, axis=1))\n",
    "Q_pre = pre_mat_Q@Q@pre_mat_Q\n",
    "p_pre = pre_mat_Q@p\n",
    "alpha = 100\n",
    "\n",
    "pre_mat_A = np.diag(1/np.linalg.norm(A, axis=1))\n",
    "A_pre = pre_mat_A@A@pre_mat_Q\n",
    "k_pre = pre_mat_A@k\n",
    "beta = 1"
   ]
  },
  {
   "cell_type": "code",
   "execution_count": 5,
   "id": "8b19fa2e",
   "metadata": {},
   "outputs": [],
   "source": [
    "init_sol = np.random.rand(Q_pre.shape[0], 1)\n",
    "iterations = 1000\n",
    "alpha_d, beta_g = 10000, 10000\n",
    "alpha, beta = 0.0005, 1\n",
    "\n",
    "# Initialize the ConstraintCheck Process of the QP\n",
    "ConsCheck = ConstraintCheck(constraint_matrix=A_pre,\n",
    "                            constraint_bias=k_pre,\n",
    "                            )\n",
    "\n",
    "# Initialize the Gradient Dynamics process of the QP\n",
    "GradDyn = GradientDynamics(hessian=Q_pre, \n",
    "                           constraint_matrix_T=A_pre.T,\n",
    "                           qp_neurons_init=init_sol, \n",
    "                           grad_bias=p_pre, alpha=alpha, \n",
    "                           beta=beta, \n",
    "                           alpha_decay_schedule=alpha_d,\n",
    "                           beta_growth_schedule=beta_g,\n",
    "                           )"
   ]
  },
  {
   "cell_type": "code",
   "execution_count": 6,
   "id": "1c67e9c8",
   "metadata": {},
   "outputs": [],
   "source": [
    "# Connect the two hierarchical processes to form core QP \n",
    "# solver\n",
    "GradDyn.a_out.connect(ConsCheck.s_in)\n",
    "ConsCheck.a_out.connect(GradDyn.s_in)\n",
    "\n",
    "# Enable select_sub_proc_model to run subprocess models\n",
    "GradDyn.run(condition=RunSteps(num_steps=iterations),\n",
    "            run_cfg=Loihi1SimCfg(select_sub_proc_model=True)\n",
    "           )\n",
    "\n",
    "# profiling counters\n",
    "tot_synops = GradDyn.vars.qC_synops.get() + GradDyn.vars.cN_synops.get() + GradDyn.vars.sN_synops.get() \\\n",
    "            + ConsCheck.vars.cNeur_synops.get() + ConsCheck.vars.cD_synops.get() \n",
    "tot_spikeops = GradDyn.vars.qC_spikeops.get() + GradDyn.vars.cN_spikeops.get() + GradDyn.vars.sN_spikeops.get() \\\n",
    "            + ConsCheck.vars.cNeur_spikeops.get() + ConsCheck.vars.cD_spikeops.get() \n",
    "tot_neurops = GradDyn.vars.qC_neurops.get() + GradDyn.vars.cN_neurops.get() + GradDyn.vars.sN_neurops.get() \\\n",
    "            + ConsCheck.vars.cNeur_neurops.get() + ConsCheck.vars.cD_neurops.get() \n",
    "\n",
    "# get solution of kth iteraation of MPC \n",
    "pre_sol_k = GradDyn.vars.qp_neuron_state.get()\n",
    "\n",
    "# stop process execution\n",
    "GradDyn.stop()\n",
    "\n",
    "# postconditioning to get actual solution\n",
    "sol_k = pre_mat_Q@pre_sol_k"
   ]
  },
  {
   "cell_type": "code",
   "execution_count": 7,
   "id": "34b79d8a",
   "metadata": {},
   "outputs": [
    {
     "name": "stdout",
     "output_type": "stream",
     "text": [
      "For kth iteration number of operations per iteration \n",
      " Neuron Ops: [[3.]] \n",
      " Syn Ops: [[66.]] \n",
      " Spike Ops: [[14.]]\n",
      "\n"
     ]
    }
   ],
   "source": [
    "print(\"For kth iteration number of operations per iteration \\n Neuron Ops: {} \\n Syn Ops: {} \\n Spike Ops: {}\\n\".format(tot_neurops/iterations, \n",
    "                                                                                     tot_synops/iterations, tot_spikeops/iterations))"
   ]
  },
  {
   "cell_type": "markdown",
   "id": "c6ffbcdd",
   "metadata": {},
   "source": [
    "## 100+ Dim MPC problem w/o sigma delta floating point"
   ]
  },
  {
   "cell_type": "code",
   "execution_count": null,
   "id": "c7722c08",
   "metadata": {},
   "outputs": [],
   "source": []
  },
  {
   "cell_type": "markdown",
   "id": "df36939d",
   "metadata": {},
   "source": [
    "## 5000+ Dim MPC problem w/o sigma delta floating point"
   ]
  },
  {
   "cell_type": "code",
   "execution_count": null,
   "id": "5d872714",
   "metadata": {},
   "outputs": [],
   "source": []
  }
 ],
 "metadata": {
  "kernelspec": {
   "display_name": "Python 3 (ipykernel)",
   "language": "python",
   "name": "python3"
  },
  "language_info": {
   "codemirror_mode": {
    "name": "ipython",
    "version": 3
   },
   "file_extension": ".py",
   "mimetype": "text/x-python",
   "name": "python",
   "nbconvert_exporter": "python",
   "pygments_lexer": "ipython3",
   "version": "3.8.5"
  }
 },
 "nbformat": 4,
 "nbformat_minor": 5
}
