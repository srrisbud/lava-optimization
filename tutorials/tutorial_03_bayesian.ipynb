{
 "cells": [
  {
   "cell_type": "markdown",
   "id": "c8439c4b",
   "metadata": {},
   "source": [
    "*Copyright (C) 2021 Intel Corporation*<br>\n",
    "*SPDX-License-Identifier: BSD-3-Clause*<br>\n",
    "*See: https://spdx.org/licenses/*"
   ]
  },
  {
   "cell_type": "markdown",
   "id": "301956d3",
   "metadata": {},
   "source": [
    "## Bayesian Optimization with Lava"
   ]
  },
  {
   "cell_type": "markdown",
   "id": "8611ce0c",
   "metadata": {},
   "source": [
    "This tutorial covers how to use the Bayesian Solver developed in Lava to optimize multi-dimensional black-box functions and demonstrates their use in larger process-based lava applications."
   ]
  },
  {
   "cell_type": "markdown",
   "id": "bff81254",
   "metadata": {},
   "source": [
    "### Recommended Tutorials before starting"
   ]
  },
  {
   "cell_type": "markdown",
   "id": "10f4ee75",
   "metadata": {},
   "source": [
    "- [Installing Lava](https://github.com/lava-nc/lava/blob/main/tutorials/in_depth/tutorial01_installing_lava.ipynb)\n",
    "- [Processes](https://github.com/lava-nc/lava/blob/main/tutorials/in_depth/tutorial02_processes.ipynb \"Tutorial on Processes\")\n",
    "- [ProcessModel](https://github.com/lava-nc/lava/blob/main/tutorials/in_depth/tutorial03_process_models.ipynb \"Tutorial on ProcessModels\")\n",
    "- [Execution](https://github.com/lava-nc/lava/blob/main/tutorials/in_depth/tutorial04_execution.ipynb \"Tutorial on Executing Processes\")"
   ]
  },
  {
   "cell_type": "markdown",
   "id": "a618bb57",
   "metadata": {},
   "source": [
    "### Why Bayesian Optimization?\n",
    "\n",
    "Many state-of-the-art systems in the neuromorphic and greater scientific community have a plethora of hyperparameters that drastically effect the performance of a system. How to learn the trade-offs of changing different parameters has become a major research question with solutions comprising a variety of techniques such as evolutionary algorithms, quadratic programming, Bayesian optimization, etc.\n",
    "\n",
    "**Bayes Theorem:**\n",
    "- $ P(B|A) = \\frac{P(B|A)*P(A)}{P(B)} $\n",
    "\n",
    "**Taking a closer look:**\n",
    "- $ A, B = \\text{correlated events} $\n",
    "- $ P(A) = \\text{independent probability of A} $\n",
    "- $ P(B) = \\text{independent probability of B} $\n",
    "- $ P(A, B) = \\text{the probability of } A \\text{ given } B$\n",
    "- $ P(B, A) = \\text{the probability of } B \\text{ given } A$\n",
    "\n",
    "Using the aforementioned theorem, Bayesian optimization creates an approximation of the underlying black-box function based on prior knowledge to predict the probability of subsequent events.\n",
    "\n",
    "For information of the details of Bayesian optimization, *\"A Tutorial on Bayesian Optimizer\"* by Frazier, P.I. provides a great introduction."
   ]
  },
  {
   "cell_type": "markdown",
   "id": "ac9bda54",
   "metadata": {},
   "source": [
    "### A Bayesian Optimizer in Lava\n",
    "\n",
    "To highlight the ability of the eventified Bayesian optimization system in Lava-Optimization, we will define a multi-dimensional, single-objective \"black-box\" function, create the appropriate processes and models, along with instantiating the solver.\n",
    "\n",
    "For our test function, we'll use the Ackley function proposed by David Ackley in his dissertation as a test function for optimization problems:\n",
    "\n",
    "$f(x_0, x_1) = -20\\text{exp}[-0.2\\sqrt{0.5 * (x_0^2+x_1^2)}]-\\text{exp}[0.5(\\text{cos}2\\pi x_0 + \\text{cos}2\\pi x_1)] + e + 20$\n",
    "\n",
    "*Ackley, D. H. (1987) \"A connectionist machine for genetic hillclimbing\", Kluwer Academic Publishers, Boston MA.*"
   ]
  },
  {
   "cell_type": "markdown",
   "id": "53b184bb",
   "metadata": {},
   "source": [
    "### Step 1) Importing all required packages"
   ]
  },
  {
   "cell_type": "code",
   "execution_count": null,
   "id": "40e4cbe3",
   "metadata": {},
   "outputs": [],
   "source": [
    "\n",
    "import math\n",
    "import numpy as np\n",
    "\n",
    "from lava.magma.core.decorator import implements, requires, tag\n",
    "from lava.magma.core.model.py.model import PyLoihiProcessModel\n",
    "from lava.magma.core.model.py.ports import PyInPort, PyOutPort\n",
    "from lava.magma.core.model.py.type import LavaPyType\n",
    "from lava.magma.core.process.ports.ports import InPort, OutPort\n",
    "from lava.magma.core.process.process import AbstractProcess\n",
    "from lava.magma.core.process.variable import Var\n",
    "from lava.magma.core.resources import CPU\n",
    "from lava.magma.core.sync.protocols.loihi_protocol import LoihiProtocol\n",
    "\n",
    "from lava.lib.optimization.solvers.bayesian.solver import BayesianSolver"
   ]
  },
  {
   "cell_type": "markdown",
   "id": "fa3c7222",
   "metadata": {},
   "source": [
    "### Step 2) Defining Lava process for the Ackley function"
   ]
  },
  {
   "cell_type": "code",
   "execution_count": null,
   "id": "0f6225af",
   "metadata": {
    "lines_to_next_cell": 0
   },
   "outputs": [],
   "source": [
    "class AckleyFuncProcess(AbstractProcess):\n",
    "    \"\"\"Process defining the architecture of the Ackley function\n",
    "    \"\"\"\n",
    "    def __init__(self, num_params: int = 2, num_objectives: int = 1,\n",
    "        **kwargs) -> None:\n",
    "        \"\"\"initialize the AckleyFuncProcess\n",
    "\n",
    "        Parameters\n",
    "        ----------\n",
    "        num_params : int\n",
    "            an integer specifying the number of parameters within the\n",
    "            search space\n",
    "        num_objectives : int\n",
    "            an integer specifying the number of qualitative attributes\n",
    "            used to measure the black-box function\n",
    "        \"\"\"\n",
    "        super().__init__(**kwargs)\n",
    "\n",
    "        # Internal State Variables\n",
    "        self.num_params = Var((1,), init=num_params)\n",
    "        self.num_objectives = Var((1,), init=num_objectives)\n",
    "\n",
    "        # Input/Output Ports\n",
    "        self.x_in = InPort((num_params, 1))\n",
    "        self.y_out = OutPort(((num_params + num_objectives), 1))\n",
    "\n",
    "@implements(proc = AckleyFuncProcess, protocol = LoihiProtocol)\n",
    "@requires(CPU)\n",
    "@tag(\"floating_pt\")\n",
    "class PyAckleyFuncProcessModel(PyLoihiProcessModel):\n",
    "    \"\"\"\n",
    "    A Python-based implementation of the Ackley function process.\n",
    "    \"\"\"\n",
    "\n",
    "    x_in: PyInPort = LavaPyType(PyInPort.VEC_DENSE, np.float64)\n",
    "    y_out: PyOutPort = LavaPyType(PyOutPort.VEC_DENSE, np.float64)\n",
    "\n",
    "    num_params = LavaPyType(int, int)\n",
    "    num_objectives = LavaPyType(int, int)\n",
    "\n",
    "    def run_spk(self) -> None:\n",
    "        \"\"\"tick the model forward by one time-step\"\"\"\n",
    "        x = self.x_in.recv()\n",
    "        y = -20 * math.exp(-0.2 * math.sqrt(0.5 * (x[0]**2 + x[1]**2)))\n",
    "        y -= math.exp(0.5 * (math.cos(2 * math.pi * x[0]) + \\\n",
    "            math.cos(2 * math.pi * x[1])))\n",
    "        y += math.e + 20\n",
    "\n",
    "        output_length: int = self.num_params + self.num_objectives\n",
    "        output = np.ndarray(shape=(output_length, 1))\n",
    "        output[0][0], output[1][0], output[2][0] = x[0], x[1], y\n",
    "        \n",
    "        self.y_out.send(output)\n",
    "\n",
    "def main():"
   ]
  },
  {
   "cell_type": "markdown",
   "id": "0608339f",
   "metadata": {},
   "source": [
    "    # ### Step 4) Creating Search Space"
   ]
  },
  {
   "cell_type": "markdown",
   "id": "10f17473",
   "metadata": {},
   "source": [
    "    # All hyperparameter searches are defined by their search spaces. The Bayesian Solver supports three types of parameter dimensions: integer, continuous, and categorical. All dimensions are specified with NumPy n-dimensional arrays of shape (5, \\<number of dimensions\\>). **It is extremely important that the number of dimensions of your parameter search space matches the input shape of your black-box process!**\n",
    "    # \n",
    "    # For each of your parameters:\n",
    "    # 1) specify the type of parameter, where the type shall be placed at index 0.\n",
    "    #     - Integer = \"integer\"\n",
    "    #     - Continuous = \"continuous\"\n",
    "    #     - Categorical = \"categorical\"\n",
    "    # 2) (integer/continuous-based parameters) define the minimum and maximum bounds\n",
    "    #     - Minimum : np.float64 --> index 1\n",
    "    #     - Maximum : np.float64 --> index 2\n",
    "    #     - Categories : np.nan --> index 3\n",
    "    # 3) (categorical parameters) we need to specify all of the categorical options \n",
    "    #     - Minimum : np.nan --> index 1\n",
    "    #     - Maximum : np.nan --> index 2\n",
    "    #     - Categories : list/ndarray[\\<categories\\>] --> index 3\n",
    "    # 4) specify a unique identifier for the parameter\n",
    "    #     - Name: str --> index 4"
   ]
  },
  {
   "cell_type": "code",
   "execution_count": null,
   "id": "fbcaff29",
   "metadata": {
    "lines_to_next_cell": 2
   },
   "outputs": [],
   "source": [
    "    # given that the Ackley function accepts two continuous parameters, we will make\n",
    "    # a search space that has one continuous dimension and one categorical dimension\n",
    "    search_space: np.ndarray = np.array([\n",
    "        [\"continuous\", np.float64(-5), np.float64(5), np.nan, \"x0\"],\n",
    "        [\"categorical\", np.nan, np.nan, np.arange(-2, 5, 0.125), \"x1\"]\n",
    "    ], dtype=object)"
   ]
  },
  {
   "cell_type": "markdown",
   "id": "add53a88",
   "metadata": {},
   "source": [
    "    # ### Step 5) Initialize Bayesian Solver\n",
    "    # \n",
    "    # Given the complexity of the lower-level aspects of the Bayesian optimization process, the BayesianSolver has a complex configuration schema that needs to be followed.\n",
    "    # \n",
    "    # #### Parameters:\n",
    "    # 1) **acq_func_config** : dict\n",
    "    #     - **\"type\":** str\n",
    "    #         - *Summary:* specify the function to minimize over the posterior distribution\n",
    "    #         - *Option 1:* \"LCB\" = lower confidence bound\n",
    "    #         - *Option 2:* \"EI\" = negative expected improvement\n",
    "    #         - *Option 3:* \"PI\" = negative probability of improvement\n",
    "    #         - *Option 4:* \"gp_hedge\" = probabilistically determine which of the aforementioned functions to use at every iteration\n",
    "    #         - *Option 5:* \"EIps\" = negative expected improved with consideration of the total function runtime\n",
    "    #         - *Option 6:* \"PIps\" = negative probability of improvement while taking into account the total function runtime\n",
    "    # 2) **acq_opt_config** : dict\n",
    "    #     - **\"type\"** : str\n",
    "    #         - *Summary:* specify the method to minimize the acquisition function\n",
    "    #         - *Option 1:* \"sampling\" = random selection from the acquisition function\n",
    "    #         - *Option 2:* \"lbfgs\" = inverse Hessian matrix estimation\n",
    "    #         - *Option 3:* \"auto\" = automatically configure based on the search space\n",
    "    # 3) **ip_gen_config** : dict\n",
    "    #     - **\"type\"**: str\n",
    "    #         - *Summary:* specify the method to explore the search space before the Gaussian regressor starts to converge\n",
    "    #         - *Option 1:* \"random\" = uniform distribution of random numbers\n",
    "    #         - *Option 2:* \"sobol\" = Sobol sequence\n",
    "    #         - *Option 3:* \"halton\" = Halton sequence\n",
    "    #         - *Option 4:* \"hammersly\" = Hammersly sequence\n",
    "    #         - *Option 5:* \"lhs\" = latin hypercube sequence\n",
    "    #         - *Option 6:* \"grid\" = uniform grid sequence\n",
    "    # 4) **num_ips** : int\n",
    "    #     - *Summary:* the number of points to explore with the initial point generator before using the regressor\n",
    "    # 5) **seed** : int\n",
    "    #     - *Summary:* An integer seed that sets the random state increases consistency in subsequent runs\n",
    "    # 6) **est_config** : dict\n",
    "    #     - **\"type\"**: str\n",
    "    #         - *Summary:* specify the type of surrogate regressor to learn the search space:\n",
    "    #         = *Option 1:* \"GP\" - gaussian process regressor\n",
    "    # 7) **num_objectives** : int\n",
    "    #     - *Summary:* specify the number of objectives to optimize over; currently limited to single objective"
   ]
  },
  {
   "cell_type": "code",
   "execution_count": null,
   "id": "a6c12881",
   "metadata": {},
   "outputs": [],
   "source": [
    "    num_ips: int = 5\n",
    "    seed: int = 0\n",
    "\n",
    "    solver = BayesianSolver(\n",
    "        acq_func_config={\"type\": \"gp_hedge\"},\n",
    "        acq_opt_config={\"type\": \"auto\"},\n",
    "        ip_gen_config={\"type\": \"random\"},\n",
    "        num_ips=num_ips,\n",
    "        seed=seed\n",
    "    )"
   ]
  },
  {
   "cell_type": "markdown",
   "id": "063e21c9",
   "metadata": {},
   "source": [
    "    # ### Step 6) Solve the black-box process"
   ]
  },
  {
   "cell_type": "code",
   "execution_count": null,
   "id": "de2bb031",
   "metadata": {},
   "outputs": [],
   "source": [
    "    # Now we are at the final stages of the process! Before we can solve the problem, we need to do a few things:\n",
    "\n",
    "    # 1) initialize the Ackley function process\n",
    "    problem = AckleyFuncProcess()\n",
    "\n",
    "    # 2) specify the experiment name and the number of optimization iteration\n",
    "    experiment_name: str = \"bayesian_tutorial_results\"\n",
    "    num_iter: int = 10\n",
    "\n",
    "    # 3) solve the problem!\n",
    "    solver.solve(\n",
    "        name=experiment_name,\n",
    "        num_iter=num_iter,\n",
    "        problem=problem,\n",
    "        search_space=search_space,\n",
    "    )"
   ]
  },
  {
   "cell_type": "markdown",
   "id": "4cced3ed",
   "metadata": {},
   "source": [
    "    # ### Moving Forward\n",
    "    # \n",
    "    # We appreciate you taking the time to follow this tutorial! :)\n",
    "    #\n",
    "    # Now you have seen how to create and solve a black-box function using the eventified Bayesian solver in Lava!\n",
    "    # \n",
    "    # If you are interested in learning more about the details of the specific implementation of the solver and\n",
    "    # the lower-level processes, have a look at the [Lava documentation](https://lava-nc.org/ \"Lava Documentation\") or dive into the [source code](https://github.com/lava-nc/lava-optimization/tree/main/src/lava/lib/optimization/solvers/qp\n",
    "    # \"QP source code\").\n",
    "    # \n",
    "    # To receive regular updates on the latest developments and releases of the Lava Software Framework please subscribe to the [INRC newsletter](http://eepurl.com/hJCyhb \"INRC Newsletter\").\n",
    "\n",
    "if __name__ == \"__main__\":\n",
    "    main()"
   ]
  }
 ],
 "metadata": {
  "jupytext": {
   "cell_metadata_filter": "-all",
   "main_language": "python",
   "notebook_metadata_filter": "-all"
  }
 },
 "nbformat": 4,
 "nbformat_minor": 5
}
